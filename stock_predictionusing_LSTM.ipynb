{
 "cells": [
  {
   "cell_type": "code",
   "execution_count": 5,
   "id": "596d985b-02ac-4aab-b46a-4a5150978e65",
   "metadata": {},
   "outputs": [],
   "source": [
    "import numpy as np\n",
    "import pandas as pd\n",
    "import matplotlib.pyplot as plt\n",
    "import yfinance as yf\n",
    "from datetime import datetime\n"
   ]
  },
  {
   "cell_type": "code",
   "execution_count": 6,
   "id": "da93bdd9-ab73-4e99-8648-be16741ba8fa",
   "metadata": {},
   "outputs": [
    {
     "name": "stderr",
     "output_type": "stream",
     "text": [
      "C:\\Users\\Ramin\\AppData\\Local\\Temp\\ipykernel_39988\\2654362732.py:6: FutureWarning: YF.download() has changed argument auto_adjust default to True\n",
      "  df = yf.download(ticker, start, end)\n",
      "[*********************100%***********************]  1 of 1 completed\n"
     ]
    },
    {
     "data": {
      "text/html": [
       "<div>\n",
       "<style scoped>\n",
       "    .dataframe tbody tr th:only-of-type {\n",
       "        vertical-align: middle;\n",
       "    }\n",
       "\n",
       "    .dataframe tbody tr th {\n",
       "        vertical-align: top;\n",
       "    }\n",
       "\n",
       "    .dataframe thead tr th {\n",
       "        text-align: left;\n",
       "    }\n",
       "\n",
       "    .dataframe thead tr:last-of-type th {\n",
       "        text-align: right;\n",
       "    }\n",
       "</style>\n",
       "<table border=\"1\" class=\"dataframe\">\n",
       "  <thead>\n",
       "    <tr>\n",
       "      <th>Price</th>\n",
       "      <th>Close</th>\n",
       "      <th>High</th>\n",
       "      <th>Low</th>\n",
       "      <th>Open</th>\n",
       "      <th>Volume</th>\n",
       "    </tr>\n",
       "    <tr>\n",
       "      <th>Ticker</th>\n",
       "      <th>AAPL</th>\n",
       "      <th>AAPL</th>\n",
       "      <th>AAPL</th>\n",
       "      <th>AAPL</th>\n",
       "      <th>AAPL</th>\n",
       "    </tr>\n",
       "    <tr>\n",
       "      <th>Date</th>\n",
       "      <th></th>\n",
       "      <th></th>\n",
       "      <th></th>\n",
       "      <th></th>\n",
       "      <th></th>\n",
       "    </tr>\n",
       "  </thead>\n",
       "  <tbody>\n",
       "    <tr>\n",
       "      <th>2015-09-30</th>\n",
       "      <td>24.787228</td>\n",
       "      <td>25.065887</td>\n",
       "      <td>24.434409</td>\n",
       "      <td>24.758012</td>\n",
       "      <td>265892000</td>\n",
       "    </tr>\n",
       "    <tr>\n",
       "      <th>2015-10-01</th>\n",
       "      <td>24.625423</td>\n",
       "      <td>24.634413</td>\n",
       "      <td>24.115296</td>\n",
       "      <td>24.510813</td>\n",
       "      <td>255716400</td>\n",
       "    </tr>\n",
       "    <tr>\n",
       "      <th>2015-10-02</th>\n",
       "      <td>24.805212</td>\n",
       "      <td>24.946790</td>\n",
       "      <td>24.169240</td>\n",
       "      <td>24.272613</td>\n",
       "      <td>232079200</td>\n",
       "    </tr>\n",
       "    <tr>\n",
       "      <th>2015-10-05</th>\n",
       "      <td>24.895094</td>\n",
       "      <td>25.027683</td>\n",
       "      <td>24.510813</td>\n",
       "      <td>24.692841</td>\n",
       "      <td>208258800</td>\n",
       "    </tr>\n",
       "    <tr>\n",
       "      <th>2015-10-06</th>\n",
       "      <td>25.014204</td>\n",
       "      <td>25.110836</td>\n",
       "      <td>24.668126</td>\n",
       "      <td>24.861391</td>\n",
       "      <td>192787200</td>\n",
       "    </tr>\n",
       "    <tr>\n",
       "      <th>...</th>\n",
       "      <td>...</td>\n",
       "      <td>...</td>\n",
       "      <td>...</td>\n",
       "      <td>...</td>\n",
       "      <td>...</td>\n",
       "    </tr>\n",
       "    <tr>\n",
       "      <th>2025-09-24</th>\n",
       "      <td>252.309998</td>\n",
       "      <td>255.740005</td>\n",
       "      <td>251.039993</td>\n",
       "      <td>255.220001</td>\n",
       "      <td>42303700</td>\n",
       "    </tr>\n",
       "    <tr>\n",
       "      <th>2025-09-25</th>\n",
       "      <td>256.869995</td>\n",
       "      <td>257.170013</td>\n",
       "      <td>251.710007</td>\n",
       "      <td>253.210007</td>\n",
       "      <td>55202100</td>\n",
       "    </tr>\n",
       "    <tr>\n",
       "      <th>2025-09-26</th>\n",
       "      <td>255.460007</td>\n",
       "      <td>257.600006</td>\n",
       "      <td>253.779999</td>\n",
       "      <td>254.100006</td>\n",
       "      <td>46076300</td>\n",
       "    </tr>\n",
       "    <tr>\n",
       "      <th>2025-09-29</th>\n",
       "      <td>254.429993</td>\n",
       "      <td>255.000000</td>\n",
       "      <td>253.009995</td>\n",
       "      <td>254.559998</td>\n",
       "      <td>40091100</td>\n",
       "    </tr>\n",
       "    <tr>\n",
       "      <th>2025-09-30</th>\n",
       "      <td>255.449997</td>\n",
       "      <td>255.919006</td>\n",
       "      <td>253.960007</td>\n",
       "      <td>254.824997</td>\n",
       "      <td>8458214</td>\n",
       "    </tr>\n",
       "  </tbody>\n",
       "</table>\n",
       "<p>2515 rows × 5 columns</p>\n",
       "</div>"
      ],
      "text/plain": [
       "Price            Close        High         Low        Open     Volume\n",
       "Ticker            AAPL        AAPL        AAPL        AAPL       AAPL\n",
       "Date                                                                 \n",
       "2015-09-30   24.787228   25.065887   24.434409   24.758012  265892000\n",
       "2015-10-01   24.625423   24.634413   24.115296   24.510813  255716400\n",
       "2015-10-02   24.805212   24.946790   24.169240   24.272613  232079200\n",
       "2015-10-05   24.895094   25.027683   24.510813   24.692841  208258800\n",
       "2015-10-06   25.014204   25.110836   24.668126   24.861391  192787200\n",
       "...                ...         ...         ...         ...        ...\n",
       "2025-09-24  252.309998  255.740005  251.039993  255.220001   42303700\n",
       "2025-09-25  256.869995  257.170013  251.710007  253.210007   55202100\n",
       "2025-09-26  255.460007  257.600006  253.779999  254.100006   46076300\n",
       "2025-09-29  254.429993  255.000000  253.009995  254.559998   40091100\n",
       "2025-09-30  255.449997  255.919006  253.960007  254.824997    8458214\n",
       "\n",
       "[2515 rows x 5 columns]"
      ]
     },
     "execution_count": 6,
     "metadata": {},
     "output_type": "execute_result"
    }
   ],
   "source": [
    "now = datetime.now()\n",
    "\n",
    "start = datetime(now.year-10, now.month, now.day)\n",
    "end = now\n",
    "ticker = 'AAPL'\n",
    "df = yf.download(ticker, start, end)\n",
    "df\n"
   ]
  },
  {
   "cell_type": "code",
   "execution_count": 7,
   "id": "98be4689-2dcd-4b74-854b-80397320163c",
   "metadata": {},
   "outputs": [
    {
     "data": {
      "text/plain": [
       "<bound method NDFrame.head of Price            Close        High         Low        Open     Volume\n",
       "Ticker            AAPL        AAPL        AAPL        AAPL       AAPL\n",
       "Date                                                                 \n",
       "2015-09-30   24.787228   25.065887   24.434409   24.758012  265892000\n",
       "2015-10-01   24.625423   24.634413   24.115296   24.510813  255716400\n",
       "2015-10-02   24.805212   24.946790   24.169240   24.272613  232079200\n",
       "2015-10-05   24.895094   25.027683   24.510813   24.692841  208258800\n",
       "2015-10-06   25.014204   25.110836   24.668126   24.861391  192787200\n",
       "...                ...         ...         ...         ...        ...\n",
       "2025-09-24  252.309998  255.740005  251.039993  255.220001   42303700\n",
       "2025-09-25  256.869995  257.170013  251.710007  253.210007   55202100\n",
       "2025-09-26  255.460007  257.600006  253.779999  254.100006   46076300\n",
       "2025-09-29  254.429993  255.000000  253.009995  254.559998   40091100\n",
       "2025-09-30  255.449997  255.919006  253.960007  254.824997    8458214\n",
       "\n",
       "[2515 rows x 5 columns]>"
      ]
     },
     "execution_count": 7,
     "metadata": {},
     "output_type": "execute_result"
    }
   ],
   "source": [
    "df.head\n"
   ]
  },
  {
   "cell_type": "code",
   "execution_count": 8,
   "id": "2387a437-851b-4d79-a6df-37c3def605ae",
   "metadata": {},
   "outputs": [
    {
     "data": {
      "text/plain": [
       "<bound method NDFrame.tail of Price            Close        High         Low        Open     Volume\n",
       "Ticker            AAPL        AAPL        AAPL        AAPL       AAPL\n",
       "Date                                                                 \n",
       "2015-09-30   24.787228   25.065887   24.434409   24.758012  265892000\n",
       "2015-10-01   24.625423   24.634413   24.115296   24.510813  255716400\n",
       "2015-10-02   24.805212   24.946790   24.169240   24.272613  232079200\n",
       "2015-10-05   24.895094   25.027683   24.510813   24.692841  208258800\n",
       "2015-10-06   25.014204   25.110836   24.668126   24.861391  192787200\n",
       "...                ...         ...         ...         ...        ...\n",
       "2025-09-24  252.309998  255.740005  251.039993  255.220001   42303700\n",
       "2025-09-25  256.869995  257.170013  251.710007  253.210007   55202100\n",
       "2025-09-26  255.460007  257.600006  253.779999  254.100006   46076300\n",
       "2025-09-29  254.429993  255.000000  253.009995  254.559998   40091100\n",
       "2025-09-30  255.449997  255.919006  253.960007  254.824997    8458214\n",
       "\n",
       "[2515 rows x 5 columns]>"
      ]
     },
     "execution_count": 8,
     "metadata": {},
     "output_type": "execute_result"
    }
   ],
   "source": [
    "df.tail"
   ]
  },
  {
   "cell_type": "code",
   "execution_count": null,
   "id": "064442de-a2b3-4a51-9503-7f95bdd17c88",
   "metadata": {},
   "outputs": [],
   "source": []
  },
  {
   "cell_type": "code",
   "execution_count": null,
   "id": "77fa4cb3-a336-4beb-9427-d6c1596fbdda",
   "metadata": {},
   "outputs": [],
   "source": []
  },
  {
   "cell_type": "code",
   "execution_count": null,
   "id": "a5c6edaa-f5aa-4ee4-999b-c25970a2ad0f",
   "metadata": {},
   "outputs": [],
   "source": []
  },
  {
   "cell_type": "code",
   "execution_count": null,
   "id": "d0fae10b-afe3-4150-9bb1-b305d8605b83",
   "metadata": {},
   "outputs": [],
   "source": []
  },
  {
   "cell_type": "code",
   "execution_count": null,
   "id": "e804a727-f08e-4689-a161-f74ecc236416",
   "metadata": {},
   "outputs": [],
   "source": []
  },
  {
   "cell_type": "code",
   "execution_count": null,
   "id": "782827c9-2abb-4acc-b207-0b396e787f2e",
   "metadata": {},
   "outputs": [],
   "source": []
  },
  {
   "cell_type": "code",
   "execution_count": null,
   "id": "4754dc25-9fcb-48d7-811d-7e209fee9a28",
   "metadata": {},
   "outputs": [],
   "source": []
  }
 ],
 "metadata": {
  "kernelspec": {
   "display_name": "Python 3 (ipykernel)",
   "language": "python",
   "name": "python3"
  },
  "language_info": {
   "codemirror_mode": {
    "name": "ipython",
    "version": 3
   },
   "file_extension": ".py",
   "mimetype": "text/x-python",
   "name": "python",
   "nbconvert_exporter": "python",
   "pygments_lexer": "ipython3",
   "version": "3.13.1"
  }
 },
 "nbformat": 4,
 "nbformat_minor": 5
}
