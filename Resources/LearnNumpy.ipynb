{
 "cells": [
  {
   "cell_type": "code",
   "execution_count": 1,
   "id": "397ba59c-a10e-4838-bc78-932720c56ae1",
   "metadata": {},
   "outputs": [],
   "source": [
    "import numpy as np"
   ]
  },
  {
   "cell_type": "code",
   "execution_count": 2,
   "id": "8e4a07d1-d2eb-43d6-a3d8-bdd5d0eab6aa",
   "metadata": {},
   "outputs": [
    {
     "data": {
      "text/plain": [
       "'2.3.2'"
      ]
     },
     "execution_count": 2,
     "metadata": {},
     "output_type": "execute_result"
    }
   ],
   "source": [
    "np.__version__\n"
   ]
  },
  {
   "cell_type": "markdown",
   "id": "fefe0dc3-616a-4be1-a5ce-906271228ebe",
   "metadata": {},
   "source": [
    "# Create & Read ¶"
   ]
  },
  {
   "cell_type": "markdown",
   "id": "08aca37d-79db-491e-8973-f665c3309bb8",
   "metadata": {},
   "source": [
    "#### 1D Array"
   ]
  },
  {
   "cell_type": "code",
   "execution_count": 3,
   "id": "06ff4ce7-5a44-44a8-86bf-15d28e451a0c",
   "metadata": {},
   "outputs": [
    {
     "data": {
      "text/plain": [
       "array([1, 2, 3, 4, 5, 6])"
      ]
     },
     "execution_count": 3,
     "metadata": {},
     "output_type": "execute_result"
    }
   ],
   "source": [
    "arr1 = np.array([1,2,3,4,5,6])\n",
    "arr1"
   ]
  },
  {
   "cell_type": "code",
   "execution_count": 4,
   "id": "a4f129fa-c57b-4bc4-b320-e57169c1fe77",
   "metadata": {},
   "outputs": [
    {
     "data": {
      "text/plain": [
       "numpy.ndarray"
      ]
     },
     "execution_count": 4,
     "metadata": {},
     "output_type": "execute_result"
    }
   ],
   "source": [
    "type(arr1)"
   ]
  },
  {
   "cell_type": "code",
   "execution_count": 5,
   "id": "85690d46-0d7d-47e5-88dd-b00ce465a677",
   "metadata": {},
   "outputs": [
    {
     "data": {
      "text/plain": [
       "(6,)"
      ]
     },
     "execution_count": 5,
     "metadata": {},
     "output_type": "execute_result"
    }
   ],
   "source": [
    "arr1.shape"
   ]
  },
  {
   "cell_type": "code",
   "execution_count": 6,
   "id": "21fe020f-2e1c-4b41-9675-6950184aa970",
   "metadata": {},
   "outputs": [
    {
     "data": {
      "text/plain": [
       "dtype('int64')"
      ]
     },
     "execution_count": 6,
     "metadata": {},
     "output_type": "execute_result"
    }
   ],
   "source": [
    "arr1.dtype"
   ]
  },
  {
   "cell_type": "code",
   "execution_count": 7,
   "id": "b8ae4637-e1b6-4546-bde0-425a2fd20e4f",
   "metadata": {},
   "outputs": [
    {
     "data": {
      "text/plain": [
       "1"
      ]
     },
     "execution_count": 7,
     "metadata": {},
     "output_type": "execute_result"
    }
   ],
   "source": [
    "arr1.ndim\n"
   ]
  },
  {
   "cell_type": "code",
   "execution_count": 8,
   "id": "d8ec5a24-3f44-42cf-a104-fbce8247fa4d",
   "metadata": {},
   "outputs": [
    {
     "data": {
      "text/plain": [
       "6"
      ]
     },
     "execution_count": 8,
     "metadata": {},
     "output_type": "execute_result"
    }
   ],
   "source": [
    "arr1.size"
   ]
  },
  {
   "cell_type": "markdown",
   "id": "3685b742-75df-4715-9d56-7dc62faf4b82",
   "metadata": {},
   "source": [
    "## 2D Array"
   ]
  },
  {
   "cell_type": "code",
   "execution_count": 9,
   "id": "e83da69d-4a52-4cd1-8d37-f6b377c70ecd",
   "metadata": {},
   "outputs": [
    {
     "data": {
      "text/plain": [
       "array([[1, 4, 5],\n",
       "       [6, 7, 4]])"
      ]
     },
     "execution_count": 9,
     "metadata": {},
     "output_type": "execute_result"
    }
   ],
   "source": [
    "arr2= np.array([[1,4,5],[6,7,4]])\n",
    "arr2"
   ]
  },
  {
   "cell_type": "code",
   "execution_count": 10,
   "id": "d4b9f3da-f1d5-45cd-9835-fdcff9b8fcda",
   "metadata": {},
   "outputs": [
    {
     "data": {
      "text/plain": [
       "2"
      ]
     },
     "execution_count": 10,
     "metadata": {},
     "output_type": "execute_result"
    }
   ],
   "source": [
    "arr2.ndim"
   ]
  },
  {
   "cell_type": "code",
   "execution_count": 11,
   "id": "fc510b14-cdbd-4fe2-b13e-03b1f467aaef",
   "metadata": {},
   "outputs": [
    {
     "data": {
      "text/plain": [
       "(2, 3)"
      ]
     },
     "execution_count": 11,
     "metadata": {},
     "output_type": "execute_result"
    }
   ],
   "source": [
    "arr2.shape"
   ]
  },
  {
   "cell_type": "code",
   "execution_count": 12,
   "id": "c2d7fc25-fd9d-4abb-9a49-36041c71c239",
   "metadata": {},
   "outputs": [
    {
     "data": {
      "text/plain": [
       "6"
      ]
     },
     "execution_count": 12,
     "metadata": {},
     "output_type": "execute_result"
    }
   ],
   "source": [
    "arr2.size"
   ]
  },
  {
   "cell_type": "markdown",
   "id": "f857a9da-2ebe-44e4-a8d0-798e971a80fb",
   "metadata": {},
   "source": [
    "## 3D Array"
   ]
  },
  {
   "cell_type": "code",
   "execution_count": 13,
   "id": "49559191-1a33-4cb0-a9ad-c0876b8a85e3",
   "metadata": {},
   "outputs": [
    {
     "data": {
      "text/plain": [
       "array([[[1, 4, 5],\n",
       "        [6, 7, 4]],\n",
       "\n",
       "       [[3, 5, 4],\n",
       "        [5, 8, 7]],\n",
       "\n",
       "       [[1, 4, 5],\n",
       "        [6, 7, 4]]])"
      ]
     },
     "execution_count": 13,
     "metadata": {},
     "output_type": "execute_result"
    }
   ],
   "source": [
    "arr3= np.array([[[1,4,5],[6,7,4]], [[3,5,4], [5,8,7]], [[1,4,5],[6,7,4]] ])\n",
    "arr3"
   ]
  },
  {
   "cell_type": "code",
   "execution_count": 14,
   "id": "75407622-c2cc-4416-bc00-6ccd31c2eb80",
   "metadata": {},
   "outputs": [
    {
     "data": {
      "text/plain": [
       "3"
      ]
     },
     "execution_count": 14,
     "metadata": {},
     "output_type": "execute_result"
    }
   ],
   "source": [
    "arr3.ndim"
   ]
  },
  {
   "cell_type": "code",
   "execution_count": 15,
   "id": "70eb4a41-347d-43c4-bc48-902cea3a8cf3",
   "metadata": {},
   "outputs": [
    {
     "data": {
      "text/plain": [
       "(3, 2, 3)"
      ]
     },
     "execution_count": 15,
     "metadata": {},
     "output_type": "execute_result"
    }
   ],
   "source": [
    "arr3.shape"
   ]
  },
  {
   "cell_type": "code",
   "execution_count": 16,
   "id": "42962317-3e0a-4cf8-8d00-9a259b6b4b08",
   "metadata": {},
   "outputs": [
    {
     "data": {
      "text/plain": [
       "18"
      ]
     },
     "execution_count": 16,
     "metadata": {},
     "output_type": "execute_result"
    }
   ],
   "source": [
    "arr3.size\n"
   ]
  },
  {
   "cell_type": "markdown",
   "id": "1730288f-dcfe-4bff-abc4-9f1087c0f74d",
   "metadata": {},
   "source": [
    "## Create Random Array"
   ]
  },
  {
   "cell_type": "code",
   "execution_count": 17,
   "id": "3cf49bc4-d029-483f-b230-4e0772c2452d",
   "metadata": {},
   "outputs": [
    {
     "data": {
      "text/plain": [
       "array([[[0.32350259, 0.93586333, 0.66433834],\n",
       "        [0.590175  , 0.60053216, 0.87874712]],\n",
       "\n",
       "       [[0.78495525, 0.76598906, 0.7145403 ],\n",
       "        [0.59507046, 0.25720581, 0.26371906]],\n",
       "\n",
       "       [[0.31694665, 0.52004789, 0.86595119],\n",
       "        [0.80901297, 0.75534302, 0.01198061]]])"
      ]
     },
     "execution_count": 17,
     "metadata": {},
     "output_type": "execute_result"
    }
   ],
   "source": [
    "randomArr= np.random.rand(3,2,3)\n",
    "randomArr"
   ]
  },
  {
   "cell_type": "code",
   "execution_count": 18,
   "id": "8e9fed38-149c-4da4-8fa5-6d00c3cfe67f",
   "metadata": {},
   "outputs": [
    {
     "data": {
      "text/plain": [
       "dtype('float64')"
      ]
     },
     "execution_count": 18,
     "metadata": {},
     "output_type": "execute_result"
    }
   ],
   "source": [
    "randomArr.dtype"
   ]
  },
  {
   "cell_type": "code",
   "execution_count": 19,
   "id": "80489827-cd90-4ff5-a060-adfe60409abe",
   "metadata": {},
   "outputs": [
    {
     "data": {
      "text/plain": [
       "array([[[0., 0., 0.],\n",
       "        [0., 0., 0.]],\n",
       "\n",
       "       [[0., 0., 0.],\n",
       "        [0., 0., 0.]],\n",
       "\n",
       "       [[0., 0., 0.],\n",
       "        [0., 0., 0.]]])"
      ]
     },
     "execution_count": 19,
     "metadata": {},
     "output_type": "execute_result"
    }
   ],
   "source": [
    "zeroes= np.zeros((3,2,3))\n",
    "zeroes"
   ]
  },
  {
   "cell_type": "code",
   "execution_count": 20,
   "id": "7f8ab674-26f5-4bfe-997a-fae741d37f3a",
   "metadata": {},
   "outputs": [
    {
     "data": {
      "text/plain": [
       "3"
      ]
     },
     "execution_count": 20,
     "metadata": {},
     "output_type": "execute_result"
    }
   ],
   "source": [
    "zeroes.ndim"
   ]
  },
  {
   "cell_type": "code",
   "execution_count": 21,
   "id": "22e4a855-a791-43f3-864b-94b5ed7ee71a",
   "metadata": {},
   "outputs": [
    {
     "data": {
      "text/plain": [
       "array([[[9, 9, 9],\n",
       "        [9, 9, 9]],\n",
       "\n",
       "       [[9, 9, 9],\n",
       "        [9, 9, 9]],\n",
       "\n",
       "       [[9, 9, 9],\n",
       "        [9, 9, 9]]])"
      ]
     },
     "execution_count": 21,
     "metadata": {},
     "output_type": "execute_result"
    }
   ],
   "source": [
    "full= np.full((3,2,3),9)\n",
    "full"
   ]
  },
  {
   "cell_type": "code",
   "execution_count": 22,
   "id": "96e04f4a-4199-4255-902b-5cb0e38d4487",
   "metadata": {},
   "outputs": [
    {
     "data": {
      "text/plain": [
       "array([[[1, 4, 5],\n",
       "        [6, 7, 4]],\n",
       "\n",
       "       [[3, 5, 4],\n",
       "        [5, 8, 7]],\n",
       "\n",
       "       [[1, 4, 5],\n",
       "        [6, 7, 4]]])"
      ]
     },
     "execution_count": 22,
     "metadata": {},
     "output_type": "execute_result"
    }
   ],
   "source": [
    "arr3"
   ]
  },
  {
   "cell_type": "code",
   "execution_count": 23,
   "id": "4a0cacbd-64c2-464b-8712-5c4d5deb206b",
   "metadata": {},
   "outputs": [
    {
     "data": {
      "text/plain": [
       "array([[[1, 4, 5],\n",
       "        [6, 7, 4]]])"
      ]
     },
     "execution_count": 23,
     "metadata": {},
     "output_type": "execute_result"
    }
   ],
   "source": [
    "arr3[0:1]"
   ]
  },
  {
   "cell_type": "code",
   "execution_count": 24,
   "id": "f92f2dac-fbb7-4e85-9e61-ccaed634bc86",
   "metadata": {},
   "outputs": [
    {
     "data": {
      "text/plain": [
       "array([[3, 5, 4],\n",
       "       [5, 8, 7]])"
      ]
     },
     "execution_count": 24,
     "metadata": {},
     "output_type": "execute_result"
    }
   ],
   "source": [
    "arr3[-2]"
   ]
  },
  {
   "cell_type": "code",
   "execution_count": 25,
   "id": "107236ca-5885-436d-9c34-5b76ddfe2ed2",
   "metadata": {},
   "outputs": [
    {
     "data": {
      "text/plain": [
       "np.int64(5)"
      ]
     },
     "execution_count": 25,
     "metadata": {},
     "output_type": "execute_result"
    }
   ],
   "source": [
    "arr3[1][0][1]"
   ]
  },
  {
   "cell_type": "code",
   "execution_count": 26,
   "id": "e0571adf-e5e3-4e1a-8b34-38b4eed8f47b",
   "metadata": {},
   "outputs": [
    {
     "data": {
      "text/plain": [
       "np.int64(5)"
      ]
     },
     "execution_count": 26,
     "metadata": {},
     "output_type": "execute_result"
    }
   ],
   "source": [
    "arr3[1,0,1]"
   ]
  },
  {
   "cell_type": "markdown",
   "id": "65003f33-7829-4667-ab2f-052948e25634",
   "metadata": {},
   "source": [
    "#### Update and Delete"
   ]
  },
  {
   "cell_type": "code",
   "execution_count": 27,
   "id": "14500c36-e4a6-482a-ac73-6ec71a16c8f9",
   "metadata": {},
   "outputs": [],
   "source": [
    "a1= np.random.rand(2,3,2)\n",
    "a2= np.random.rand(2,3,2)"
   ]
  },
  {
   "cell_type": "code",
   "execution_count": 28,
   "id": "276073d0-0517-49b1-9ed4-2d185b4f5485",
   "metadata": {},
   "outputs": [
    {
     "data": {
      "text/plain": [
       "array([[[0.53775878, 0.21183937],\n",
       "        [0.11720024, 0.32617217],\n",
       "        [0.54260664, 0.39440351]],\n",
       "\n",
       "       [[0.08888738, 0.1822183 ],\n",
       "        [0.27946473, 0.91062054],\n",
       "        [0.9905615 , 0.92124989]]])"
      ]
     },
     "execution_count": 28,
     "metadata": {},
     "output_type": "execute_result"
    }
   ],
   "source": [
    "a1"
   ]
  },
  {
   "cell_type": "code",
   "execution_count": 29,
   "id": "0c0ff0ee-13a3-482c-8f62-deb2d794578d",
   "metadata": {},
   "outputs": [
    {
     "data": {
      "text/plain": [
       "array([[[0.39731896, 0.17370182],\n",
       "        [0.40817891, 0.42764775],\n",
       "        [0.30642908, 0.56916559]],\n",
       "\n",
       "       [[0.00380269, 0.55076564],\n",
       "        [0.02954208, 0.81219192],\n",
       "        [0.39382812, 0.11379462]]])"
      ]
     },
     "execution_count": 29,
     "metadata": {},
     "output_type": "execute_result"
    }
   ],
   "source": [
    "a2"
   ]
  },
  {
   "cell_type": "markdown",
   "id": "efac9997-3014-4022-bd73-1913924fbb78",
   "metadata": {},
   "source": [
    "## Basic Math Operation"
   ]
  },
  {
   "cell_type": "code",
   "execution_count": 30,
   "id": "67fb4233-f573-4e5a-8824-c52f23722e72",
   "metadata": {},
   "outputs": [
    {
     "data": {
      "text/plain": [
       "array([[[0.93507774, 0.38554119],\n",
       "        [0.52537916, 0.75381992],\n",
       "        [0.84903572, 0.9635691 ]],\n",
       "\n",
       "       [[0.09269007, 0.73298395],\n",
       "        [0.30900681, 1.72281245],\n",
       "        [1.38438963, 1.0350445 ]]])"
      ]
     },
     "execution_count": 30,
     "metadata": {},
     "output_type": "execute_result"
    }
   ],
   "source": [
    "np.add(a1,a2)"
   ]
  },
  {
   "cell_type": "code",
   "execution_count": 31,
   "id": "bdf5b35e-4cac-4a32-97df-c43a93739972",
   "metadata": {},
   "outputs": [
    {
     "data": {
      "text/plain": [
       "array([[[ 0.14043982,  0.03813756],\n",
       "        [-0.29097867, -0.10147558],\n",
       "        [ 0.23617756, -0.17476208]],\n",
       "\n",
       "       [[ 0.08508469, -0.36854734],\n",
       "        [ 0.24992265,  0.09842862],\n",
       "        [ 0.59673338,  0.80745527]]])"
      ]
     },
     "execution_count": 31,
     "metadata": {},
     "output_type": "execute_result"
    }
   ],
   "source": [
    "np.subtract(a1,a2)"
   ]
  },
  {
   "cell_type": "code",
   "execution_count": 32,
   "id": "bcec4be5-87b9-424a-a647-dded457021b5",
   "metadata": {},
   "outputs": [
    {
     "data": {
      "text/plain": [
       "array([[[ 1.35346872,  1.21955761],\n",
       "        [ 0.28712959,  0.76271224],\n",
       "        [ 1.77074133,  0.69295037]],\n",
       "\n",
       "       [[23.37488778,  0.33084545],\n",
       "        [ 9.45988721,  1.12118887],\n",
       "        [ 2.51521272,  8.09572449]]])"
      ]
     },
     "execution_count": 32,
     "metadata": {},
     "output_type": "execute_result"
    }
   ],
   "source": [
    "np.divide(a1,a2)"
   ]
  },
  {
   "cell_type": "code",
   "execution_count": 33,
   "id": "c9770d6d-f378-415b-adde-41f358140e92",
   "metadata": {},
   "outputs": [
    {
     "data": {
      "text/plain": [
       "array([[[2.13661760e-01, 3.67968842e-02],\n",
       "        [4.78386687e-02, 1.39486796e-01],\n",
       "        [1.66270455e-01, 2.24480907e-01]],\n",
       "\n",
       "       [[3.38010882e-04, 1.00359581e-01],\n",
       "        [8.25596900e-03, 7.39598640e-01],\n",
       "        [3.90110977e-01, 1.04833280e-01]]])"
      ]
     },
     "execution_count": 33,
     "metadata": {},
     "output_type": "execute_result"
    }
   ],
   "source": [
    "np.multiply(a1,a2)"
   ]
  },
  {
   "cell_type": "code",
   "execution_count": 34,
   "id": "17c39a67-54f4-4700-9fef-0a7b64af4ea5",
   "metadata": {},
   "outputs": [],
   "source": [
    "sqrt = np.sqrt(25)\n",
    "abs = np.abs(-2)\n",
    "power = np.power(2, 8)\n",
    "log = np.log(25)\n",
    "mins = np.min(a1)\n",
    "maxs = np.max(a2)"
   ]
  },
  {
   "cell_type": "markdown",
   "id": "50717f29-8d53-4012-8be0-1d7d4fae1fa5",
   "metadata": {},
   "source": [
    "## Statistical operations"
   ]
  },
  {
   "cell_type": "code",
   "execution_count": 35,
   "id": "7dca29ee-57e3-4866-a043-d5284188b079",
   "metadata": {},
   "outputs": [
    {
     "data": {
      "text/plain": [
       "np.float64(5.0)"
      ]
     },
     "execution_count": 35,
     "metadata": {},
     "output_type": "execute_result"
    }
   ],
   "source": [
    "sqrt"
   ]
  },
  {
   "cell_type": "code",
   "execution_count": 36,
   "id": "13f1e54d-3f0c-486c-863c-41f9a5bf4da5",
   "metadata": {},
   "outputs": [
    {
     "data": {
      "text/plain": [
       "np.int64(2)"
      ]
     },
     "execution_count": 36,
     "metadata": {},
     "output_type": "execute_result"
    }
   ],
   "source": [
    "abs"
   ]
  },
  {
   "cell_type": "code",
   "execution_count": 37,
   "id": "9e72f109-be47-40ed-9bcd-ea44952c3ed2",
   "metadata": {},
   "outputs": [
    {
     "data": {
      "text/plain": [
       "np.int64(256)"
      ]
     },
     "execution_count": 37,
     "metadata": {},
     "output_type": "execute_result"
    }
   ],
   "source": [
    "power"
   ]
  },
  {
   "cell_type": "code",
   "execution_count": 38,
   "id": "cbdb52ef-df9b-453e-ba03-e1818dc2b8c1",
   "metadata": {},
   "outputs": [
    {
     "data": {
      "text/plain": [
       "np.float64(3.2188758248682006)"
      ]
     },
     "execution_count": 38,
     "metadata": {},
     "output_type": "execute_result"
    }
   ],
   "source": [
    "log"
   ]
  },
  {
   "cell_type": "code",
   "execution_count": 39,
   "id": "eeae2a41-024a-4345-b849-dc7a7d252636",
   "metadata": {},
   "outputs": [
    {
     "data": {
      "text/plain": [
       "np.float64(0.08888738065266966)"
      ]
     },
     "execution_count": 39,
     "metadata": {},
     "output_type": "execute_result"
    }
   ],
   "source": [
    "mins"
   ]
  },
  {
   "cell_type": "code",
   "execution_count": 40,
   "id": "70930125-2a4e-4d92-98eb-b3664b0dc44e",
   "metadata": {},
   "outputs": [
    {
     "data": {
      "text/plain": [
       "np.float64(0.8121919177501311)"
      ]
     },
     "execution_count": 40,
     "metadata": {},
     "output_type": "execute_result"
    }
   ],
   "source": [
    "maxs"
   ]
  },
  {
   "cell_type": "markdown",
   "id": "172a8e59-1d0e-4e7a-9273-453c920423a5",
   "metadata": {},
   "source": [
    "## Update"
   ]
  },
  {
   "cell_type": "code",
   "execution_count": 41,
   "id": "0ba8c179-07f6-4bc1-ad82-9ac270ecf08b",
   "metadata": {},
   "outputs": [
    {
     "data": {
      "text/plain": [
       "array([[[1, 4, 5],\n",
       "        [6, 7, 4]],\n",
       "\n",
       "       [[3, 5, 4],\n",
       "        [5, 8, 7]],\n",
       "\n",
       "       [[1, 4, 5],\n",
       "        [6, 7, 4]]])"
      ]
     },
     "execution_count": 41,
     "metadata": {},
     "output_type": "execute_result"
    }
   ],
   "source": [
    "arr3"
   ]
  },
  {
   "cell_type": "markdown",
   "id": "0633650a-27f4-4b62-9e3d-386ea720fa1b",
   "metadata": {},
   "source": [
    "### Update"
   ]
  },
  {
   "cell_type": "code",
   "execution_count": 42,
   "id": "ba09a71b-1b85-4f4c-a0d2-377f645c1362",
   "metadata": {},
   "outputs": [
    {
     "data": {
      "text/plain": [
       "array([[[  1,   4, 500],\n",
       "        [  6,   7,   4]],\n",
       "\n",
       "       [[  3,   5,   4],\n",
       "        [  5,   8,   7]],\n",
       "\n",
       "       [[  1,   4,   5],\n",
       "        [  6,   7,   4]]])"
      ]
     },
     "execution_count": 42,
     "metadata": {},
     "output_type": "execute_result"
    }
   ],
   "source": [
    "arr3[0][0][2] = 500\n",
    "arr3"
   ]
  },
  {
   "cell_type": "code",
   "execution_count": 43,
   "id": "58579dd5-64ec-488a-894d-09c31725daed",
   "metadata": {},
   "outputs": [],
   "source": [
    "# Reshape"
   ]
  },
  {
   "cell_type": "code",
   "execution_count": 44,
   "id": "3f04403e-5684-423a-ab3c-0aa7dc552143",
   "metadata": {},
   "outputs": [
    {
     "data": {
      "text/plain": [
       "(3, 2, 3)"
      ]
     },
     "execution_count": 44,
     "metadata": {},
     "output_type": "execute_result"
    }
   ],
   "source": [
    "arr3.shape"
   ]
  },
  {
   "cell_type": "code",
   "execution_count": 45,
   "id": "0b8e9603-76ff-4056-a6ed-f083161e8290",
   "metadata": {},
   "outputs": [
    {
     "data": {
      "text/plain": [
       "array([[[  1,   4, 500],\n",
       "        [  6,   7,   4],\n",
       "        [  3,   5,   4]],\n",
       "\n",
       "       [[  5,   8,   7],\n",
       "        [  1,   4,   5],\n",
       "        [  6,   7,   4]]])"
      ]
     },
     "execution_count": 45,
     "metadata": {},
     "output_type": "execute_result"
    }
   ],
   "source": [
    "arr3_reshape = arr3.reshape((2,3,3))\n",
    "arr3_reshape"
   ]
  },
  {
   "cell_type": "markdown",
   "id": "207f3b1a-e95c-485d-a288-7a44ace64d5f",
   "metadata": {},
   "source": [
    "### Appending and inserting "
   ]
  },
  {
   "cell_type": "code",
   "execution_count": 49,
   "id": "16034e25-1f73-43a3-a159-07b70267ba94",
   "metadata": {},
   "outputs": [
    {
     "data": {
      "text/plain": [
       "(2, 3, 3)"
      ]
     },
     "execution_count": 49,
     "metadata": {},
     "output_type": "execute_result"
    }
   ],
   "source": [
    "arr3_reshape.shape"
   ]
  },
  {
   "cell_type": "code",
   "execution_count": 50,
   "id": "cf46be5f-4b8e-42dd-bc4f-ed3565421298",
   "metadata": {},
   "outputs": [
    {
     "data": {
      "text/plain": [
       "array([[[0., 0., 0.],\n",
       "        [0., 0., 0.]],\n",
       "\n",
       "       [[0., 0., 0.],\n",
       "        [0., 0., 0.]],\n",
       "\n",
       "       [[0., 0., 0.],\n",
       "        [0., 0., 0.]]])"
      ]
     },
     "execution_count": 50,
     "metadata": {},
     "output_type": "execute_result"
    }
   ],
   "source": [
    "zeroes"
   ]
  },
  {
   "cell_type": "markdown",
   "id": "7950b584-e0a5-4979-ad82-3453e024769c",
   "metadata": {},
   "source": [
    "### Create a new Array"
   ]
  },
  {
   "cell_type": "code",
   "execution_count": 52,
   "id": "52cb6e16-d63f-40ac-a782-59574aef9718",
   "metadata": {},
   "outputs": [
    {
     "data": {
      "text/plain": [
       "array([[[1., 1., 1.],\n",
       "        [1., 1., 1.]],\n",
       "\n",
       "       [[1., 1., 1.],\n",
       "        [1., 1., 1.]],\n",
       "\n",
       "       [[1., 1., 1.],\n",
       "        [1., 1., 1.]]])"
      ]
     },
     "execution_count": 52,
     "metadata": {},
     "output_type": "execute_result"
    }
   ],
   "source": [
    "new_array= np.ones((3,2,3))\n",
    "new_array"
   ]
  },
  {
   "cell_type": "code",
   "execution_count": 53,
   "id": "9e08f6fe-f897-45f6-8626-8435cb5f1c87",
   "metadata": {},
   "outputs": [
    {
     "data": {
      "text/plain": [
       "array([[[0., 0., 0.],\n",
       "        [0., 0., 0.]],\n",
       "\n",
       "       [[0., 0., 0.],\n",
       "        [0., 0., 0.]],\n",
       "\n",
       "       [[0., 0., 0.],\n",
       "        [0., 0., 0.]],\n",
       "\n",
       "       [[1., 1., 1.],\n",
       "        [1., 1., 1.]],\n",
       "\n",
       "       [[1., 1., 1.],\n",
       "        [1., 1., 1.]],\n",
       "\n",
       "       [[1., 1., 1.],\n",
       "        [1., 1., 1.]]])"
      ]
     },
     "execution_count": 53,
     "metadata": {},
     "output_type": "execute_result"
    }
   ],
   "source": [
    "appd= np.append(zeroes, new_array, axis=0) #axis 0 = row, axis 1 = column\n",
    "appd"
   ]
  },
  {
   "cell_type": "code",
   "execution_count": 56,
   "id": "c99cf19b-8f33-4ef7-9d30-1c7662a19c1b",
   "metadata": {},
   "outputs": [
    {
     "data": {
      "text/plain": [
       "array([[[0., 0., 0.],\n",
       "        [0., 0., 0.]],\n",
       "\n",
       "       [[1., 1., 1.],\n",
       "        [1., 1., 1.]],\n",
       "\n",
       "       [[1., 1., 1.],\n",
       "        [1., 1., 1.]],\n",
       "\n",
       "       [[1., 1., 1.],\n",
       "        [1., 1., 1.]],\n",
       "\n",
       "       [[0., 0., 0.],\n",
       "        [0., 0., 0.]],\n",
       "\n",
       "       [[0., 0., 0.],\n",
       "        [0., 0., 0.]]])"
      ]
     },
     "execution_count": 56,
     "metadata": {},
     "output_type": "execute_result"
    }
   ],
   "source": [
    "inserted_array= np.insert(zeroes, 1, new_array, axis=0)\n",
    "inserted_array"
   ]
  },
  {
   "cell_type": "code",
   "execution_count": 57,
   "id": "4b393c62-86e1-4584-b4df-13db3f57ad23",
   "metadata": {},
   "outputs": [
    {
     "data": {
      "text/plain": [
       "array([[[0.00181129, 0.53353415, 0.43705807],\n",
       "        [0.20063723, 0.20047432, 0.15385421]],\n",
       "\n",
       "       [[0.63702201, 0.97965772, 0.12688918],\n",
       "        [0.57110963, 0.71322763, 0.09717365]],\n",
       "\n",
       "       [[0.28457733, 0.98241378, 0.87730783],\n",
       "        [0.74376859, 0.99975422, 0.52666431]]])"
      ]
     },
     "execution_count": 57,
     "metadata": {},
     "output_type": "execute_result"
    }
   ],
   "source": [
    "arr4= np.random.rand(3,2,3)\n",
    "arr4"
   ]
  },
  {
   "cell_type": "code",
   "execution_count": 59,
   "id": "53df546a-efd2-44de-bf0f-ef2fee67d83e",
   "metadata": {},
   "outputs": [],
   "source": [
    "arr5= np.delete(arr4, 0, axis=1)"
   ]
  },
  {
   "cell_type": "code",
   "execution_count": 60,
   "id": "53c617d8-2a9b-463d-b3c0-b952d3a77d7e",
   "metadata": {},
   "outputs": [
    {
     "data": {
      "text/plain": [
       "array([[[0.20063723, 0.20047432, 0.15385421]],\n",
       "\n",
       "       [[0.57110963, 0.71322763, 0.09717365]],\n",
       "\n",
       "       [[0.74376859, 0.99975422, 0.52666431]]])"
      ]
     },
     "execution_count": 60,
     "metadata": {},
     "output_type": "execute_result"
    }
   ],
   "source": [
    "arr5"
   ]
  },
  {
   "cell_type": "code",
   "execution_count": 63,
   "id": "7db09e37-51ea-4c7c-abaa-3dabdfc52cce",
   "metadata": {},
   "outputs": [],
   "source": [
    "np.save(\"new_array5\", arr5)"
   ]
  },
  {
   "cell_type": "code",
   "execution_count": 64,
   "id": "184c853c-b3f0-4e8b-b196-23eed2c54110",
   "metadata": {},
   "outputs": [
    {
     "data": {
      "text/plain": [
       "array([[[0.20063723, 0.20047432, 0.15385421]],\n",
       "\n",
       "       [[0.57110963, 0.71322763, 0.09717365]],\n",
       "\n",
       "       [[0.74376859, 0.99975422, 0.52666431]]])"
      ]
     },
     "execution_count": 64,
     "metadata": {},
     "output_type": "execute_result"
    }
   ],
   "source": [
    "np.load(\"new_array5.npy\")"
   ]
  },
  {
   "cell_type": "code",
   "execution_count": null,
   "id": "426a3313-9cea-4d87-8d86-be6586978095",
   "metadata": {},
   "outputs": [],
   "source": []
  },
  {
   "cell_type": "code",
   "execution_count": null,
   "id": "2aedf048-bc2e-41e5-8824-0bc2dd638bbd",
   "metadata": {},
   "outputs": [],
   "source": []
  },
  {
   "cell_type": "code",
   "execution_count": null,
   "id": "7a017e0d-5771-4b13-84c6-843277eeea58",
   "metadata": {},
   "outputs": [],
   "source": []
  },
  {
   "cell_type": "code",
   "execution_count": null,
   "id": "873218c6-44d6-412f-b878-4aec22cb6d8c",
   "metadata": {},
   "outputs": [],
   "source": []
  },
  {
   "cell_type": "code",
   "execution_count": null,
   "id": "21a3aaf8-9ef2-4fe4-8f86-a8a19225ff1b",
   "metadata": {},
   "outputs": [],
   "source": []
  },
  {
   "cell_type": "code",
   "execution_count": null,
   "id": "5d116c4e-0c8d-44ee-afb0-8194bb43cd54",
   "metadata": {},
   "outputs": [],
   "source": []
  },
  {
   "cell_type": "code",
   "execution_count": null,
   "id": "bd4557c8-b6ad-461a-8b08-59a4d1e0dd60",
   "metadata": {},
   "outputs": [],
   "source": []
  }
 ],
 "metadata": {
  "kernelspec": {
   "display_name": "Python 3 (ipykernel)",
   "language": "python",
   "name": "python3"
  },
  "language_info": {
   "codemirror_mode": {
    "name": "ipython",
    "version": 3
   },
   "file_extension": ".py",
   "mimetype": "text/x-python",
   "name": "python",
   "nbconvert_exporter": "python",
   "pygments_lexer": "ipython3",
   "version": "3.13.1"
  }
 },
 "nbformat": 4,
 "nbformat_minor": 5
}
